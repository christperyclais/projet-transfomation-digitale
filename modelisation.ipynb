{
 "cells": [
  {
   "cell_type": "markdown",
   "id": "f787355a",
   "metadata": {},
   "source": [
    "# Transformation Digitale\n",
    "\n",
    "Le but de ce projet est d'accompagner le marchand de vins de renom dans sa ***transformation digitale*** afin que ces ventes sur Internet soient prises en compte et surtout de valoriser ce marché du numérique qui offre plusieurs opportunités.\n",
    "\n",
    "Mon rôle étant que Data Scientist est de l'aider à bâtir des outils nécessaires pour l'analyse de ces ventes sur Internet qui, jusques là étaient impossibles d'analyser pour manque de rapprochement entre les exports des tables de ventes sur Internet et ceux fait hors ligne."
   ]
  },
  {
   "cell_type": "markdown",
   "id": "cb9cc4fa",
   "metadata": {},
   "source": [
    "![caviste](https://www.espacemarconi.fr/wp-content/uploads/2019/04/espace-marconi-459-1080x675.jpg)"
   ]
  },
  {
   "cell_type": "markdown",
   "id": "e8a4c403",
   "metadata": {},
   "source": [
    "# Table de Matières"
   ]
  },
  {
   "cell_type": "markdown",
   "id": "d0020fc5",
   "metadata": {},
   "source": [
    "# 1. Définition du problème\n",
    "\n",
    "- L'objectif ici est de prédire le `prix` de vin en fonction des variables `quantitives`. Ensuite, construire les `profils de vins` autour de et de décrire les cluster obenus\n",
    "\n",
    "- Nous avons à notre portée plusieurs jeux de données, notamment sur les réferences des produits en boutique et celles en lignes.\n",
    "\n",
    "- Nous commenceront de rien pour construire au fur et à mesure une solution satisfaisante ayant de bonnes performances.\n",
    "\n",
    "- Il s'agit d'unn problème de `Machine Learning` et plus précisement d'une `régression` pour le premier cas qui est la prédiction du prix de vins et d'un deuxième cas d'une `classification` pour la construction des profils de vins.\n",
    "\n",
    "- Nous évaluerons le moddèle du premier cas en utilisant le métrique `R2` et pour le sécond cas le `Score F1` pour ensuire voir d'autres métriques comme `l'accuracy`."
   ]
  },
  {
   "cell_type": "markdown",
   "id": "19544c3a",
   "metadata": {},
   "source": [
    "# 2. Importation des librairies et acquisition des données\n",
    "\n",
    "## 2.1. Importation des librairies"
   ]
  },
  {
   "cell_type": "code",
   "execution_count": 1,
   "id": "af329c43",
   "metadata": {},
   "outputs": [],
   "source": [
    "# Manipulation des données\n",
    "import numpy as np\n",
    "import pandas as pd\n",
    "\n",
    "# Visualisation des données\n",
    "import matplotlib.pyplot as plt\n",
    "import seaborn as sns\n",
    "import plotly.express as px\n",
    "\n",
    "# Package de modélisation\n",
    "from sklearn.model_selection import train_test_split, GridSearchCV\n",
    "from sklearn.preprocessing import OneHotEncoder, RobustScaler\n",
    "from sklearn.pipeline import Pipeline, make_pipeline\n",
    "from sklearn.compose import make_column_transformer\n",
    "from sklearn.linear_model import LinearRegression\n",
    "from sklearn.cluster import KMeans\n",
    "\n",
    "# Package d'évaluation de modèle\n",
    "from sklearn.metrics import r2_score, f1_score\n",
    "\n",
    "# Package pour intertpréter les modèles\n",
    "import shap"
   ]
  },
  {
   "cell_type": "markdown",
   "id": "586d4c40",
   "metadata": {},
   "source": [
    "## 2.2 Acquisition de données"
   ]
  },
  {
   "cell_type": "code",
   "execution_count": 2,
   "id": "87c435f9",
   "metadata": {},
   "outputs": [],
   "source": [
    "# Charger les données dans le notebook\n",
    "wine_df = pd.read_csv(\"wine_data.csv\")"
   ]
  },
  {
   "cell_type": "code",
   "execution_count": 3,
   "id": "529cc1ad",
   "metadata": {},
   "outputs": [
    {
     "name": "stdout",
     "output_type": "stream",
     "text": [
      "La base fait 896 lignes et 5 colonnes\n"
     ]
    },
    {
     "data": {
      "text/html": [
       "<div>\n",
       "<style scoped>\n",
       "    .dataframe tbody tr th:only-of-type {\n",
       "        vertical-align: middle;\n",
       "    }\n",
       "\n",
       "    .dataframe tbody tr th {\n",
       "        vertical-align: top;\n",
       "    }\n",
       "\n",
       "    .dataframe thead th {\n",
       "        text-align: right;\n",
       "    }\n",
       "</style>\n",
       "<table border=\"1\" class=\"dataframe\">\n",
       "  <thead>\n",
       "    <tr style=\"text-align: right;\">\n",
       "      <th></th>\n",
       "      <th>total_sales</th>\n",
       "      <th>onsale_web</th>\n",
       "      <th>price</th>\n",
       "      <th>stock_quantity</th>\n",
       "      <th>stock_status</th>\n",
       "    </tr>\n",
       "  </thead>\n",
       "  <tbody>\n",
       "    <tr>\n",
       "      <th>0</th>\n",
       "      <td>10.0</td>\n",
       "      <td>1</td>\n",
       "      <td>25.0</td>\n",
       "      <td>0</td>\n",
       "      <td>instock</td>\n",
       "    </tr>\n",
       "    <tr>\n",
       "      <th>1</th>\n",
       "      <td>6.0</td>\n",
       "      <td>1</td>\n",
       "      <td>24.2</td>\n",
       "      <td>0</td>\n",
       "      <td>outofstock</td>\n",
       "    </tr>\n",
       "    <tr>\n",
       "      <th>2</th>\n",
       "      <td>0.0</td>\n",
       "      <td>1</td>\n",
       "      <td>34.3</td>\n",
       "      <td>0</td>\n",
       "      <td>outofstock</td>\n",
       "    </tr>\n",
       "    <tr>\n",
       "      <th>3</th>\n",
       "      <td>0.0</td>\n",
       "      <td>1</td>\n",
       "      <td>20.8</td>\n",
       "      <td>0</td>\n",
       "      <td>outofstock</td>\n",
       "    </tr>\n",
       "    <tr>\n",
       "      <th>4</th>\n",
       "      <td>3.0</td>\n",
       "      <td>1</td>\n",
       "      <td>14.1</td>\n",
       "      <td>0</td>\n",
       "      <td>outofstock</td>\n",
       "    </tr>\n",
       "  </tbody>\n",
       "</table>\n",
       "</div>"
      ],
      "text/plain": [
       "   total_sales  onsale_web  price  stock_quantity stock_status\n",
       "0         10.0           1   25.0               0      instock\n",
       "1          6.0           1   24.2               0   outofstock\n",
       "2          0.0           1   34.3               0   outofstock\n",
       "3          0.0           1   20.8               0   outofstock\n",
       "4          3.0           1   14.1               0   outofstock"
      ]
     },
     "execution_count": 3,
     "metadata": {},
     "output_type": "execute_result"
    }
   ],
   "source": [
    "# Afficher la taille des données\n",
    "print(f\"La base fait {wine_df.shape[0]} lignes et {wine_df.shape[1]} colonnes\")\n",
    "# Afficher les 5 premières lignes des données\n",
    "wine_df.head()"
   ]
  },
  {
   "cell_type": "markdown",
   "id": "1980f29f",
   "metadata": {},
   "source": [
    "# 3. Feature Engineering"
   ]
  },
  {
   "cell_type": "markdown",
   "id": "f93f9fd1",
   "metadata": {},
   "source": [
    "- **Calcul du chiffre d'affaire réalisé par produit**"
   ]
  },
  {
   "cell_type": "code",
   "execution_count": 4,
   "id": "5cc7cf52",
   "metadata": {},
   "outputs": [],
   "source": [
    "# Calculer le chiffre d'affaire par produit\n",
    "wine_df[\"revenue\"] = wine_df[\"price\"] * wine_df[\"total_sales\"]"
   ]
  },
  {
   "cell_type": "code",
   "execution_count": 5,
   "id": "706792fc",
   "metadata": {},
   "outputs": [
    {
     "data": {
      "text/html": [
       "<div>\n",
       "<style scoped>\n",
       "    .dataframe tbody tr th:only-of-type {\n",
       "        vertical-align: middle;\n",
       "    }\n",
       "\n",
       "    .dataframe tbody tr th {\n",
       "        vertical-align: top;\n",
       "    }\n",
       "\n",
       "    .dataframe thead th {\n",
       "        text-align: right;\n",
       "    }\n",
       "</style>\n",
       "<table border=\"1\" class=\"dataframe\">\n",
       "  <thead>\n",
       "    <tr style=\"text-align: right;\">\n",
       "      <th></th>\n",
       "      <th>total_sales</th>\n",
       "      <th>onsale_web</th>\n",
       "      <th>price</th>\n",
       "      <th>stock_quantity</th>\n",
       "      <th>stock_status</th>\n",
       "      <th>revenue</th>\n",
       "    </tr>\n",
       "  </thead>\n",
       "  <tbody>\n",
       "    <tr>\n",
       "      <th>0</th>\n",
       "      <td>10.0</td>\n",
       "      <td>1</td>\n",
       "      <td>25.0</td>\n",
       "      <td>0</td>\n",
       "      <td>instock</td>\n",
       "      <td>250.0</td>\n",
       "    </tr>\n",
       "    <tr>\n",
       "      <th>1</th>\n",
       "      <td>6.0</td>\n",
       "      <td>1</td>\n",
       "      <td>24.2</td>\n",
       "      <td>0</td>\n",
       "      <td>outofstock</td>\n",
       "      <td>145.2</td>\n",
       "    </tr>\n",
       "    <tr>\n",
       "      <th>2</th>\n",
       "      <td>0.0</td>\n",
       "      <td>1</td>\n",
       "      <td>34.3</td>\n",
       "      <td>0</td>\n",
       "      <td>outofstock</td>\n",
       "      <td>0.0</td>\n",
       "    </tr>\n",
       "    <tr>\n",
       "      <th>3</th>\n",
       "      <td>0.0</td>\n",
       "      <td>1</td>\n",
       "      <td>20.8</td>\n",
       "      <td>0</td>\n",
       "      <td>outofstock</td>\n",
       "      <td>0.0</td>\n",
       "    </tr>\n",
       "    <tr>\n",
       "      <th>4</th>\n",
       "      <td>3.0</td>\n",
       "      <td>1</td>\n",
       "      <td>14.1</td>\n",
       "      <td>0</td>\n",
       "      <td>outofstock</td>\n",
       "      <td>42.3</td>\n",
       "    </tr>\n",
       "  </tbody>\n",
       "</table>\n",
       "</div>"
      ],
      "text/plain": [
       "   total_sales  onsale_web  price  stock_quantity stock_status  revenue\n",
       "0         10.0           1   25.0               0      instock    250.0\n",
       "1          6.0           1   24.2               0   outofstock    145.2\n",
       "2          0.0           1   34.3               0   outofstock      0.0\n",
       "3          0.0           1   20.8               0   outofstock      0.0\n",
       "4          3.0           1   14.1               0   outofstock     42.3"
      ]
     },
     "execution_count": 5,
     "metadata": {},
     "output_type": "execute_result"
    }
   ],
   "source": [
    "# Vérification des ajouts\n",
    "wine_df.head()"
   ]
  },
  {
   "cell_type": "markdown",
   "id": "2d50806a",
   "metadata": {},
   "source": [
    "- **Calcul du chiffre d'affaire total réalisé**"
   ]
  },
  {
   "cell_type": "code",
   "execution_count": 6,
   "id": "9b8393f5",
   "metadata": {},
   "outputs": [],
   "source": [
    "# Calculer le chiffre total\n",
    "total_revenue = sum(wine_df[\"revenue\"])"
   ]
  },
  {
   "cell_type": "code",
   "execution_count": 7,
   "id": "dc50c526",
   "metadata": {},
   "outputs": [
    {
     "name": "stdout",
     "output_type": "stream",
     "text": [
      "Vous avez réalisés 70568.6 € de chiffre d'affaires 😊\n"
     ]
    }
   ],
   "source": [
    "# Afficher le chiffre d'affaire total réalisé\n",
    "print(f\"Vous avez réalisés {total_revenue} € de chiffre d'affaires 😊\")"
   ]
  },
  {
   "cell_type": "markdown",
   "id": "75e09c20",
   "metadata": {},
   "source": [
    "# 4. Régression Linéaire"
   ]
  },
  {
   "cell_type": "code",
   "execution_count": 8,
   "id": "2905960f",
   "metadata": {},
   "outputs": [],
   "source": [
    "# Définir le SEED\n",
    "SEED = 42\n",
    "# Diviser les données en jeu de train et de test\n",
    "df_train, df_test = train_test_split(wine_df, \n",
    "                                     test_size=0.2, \n",
    "                                     random_state=SEED)"
   ]
  },
  {
   "cell_type": "code",
   "execution_count": 9,
   "id": "9b0dc9d9",
   "metadata": {},
   "outputs": [
    {
     "name": "stdout",
     "output_type": "stream",
     "text": [
      "Le jeu de train fait : (716, 6)\n",
      "\n",
      "Le jeu de test fait : (180, 6)\n"
     ]
    }
   ],
   "source": [
    "# Vérifier les taille des deux jeux de données\n",
    "print(f\"Le jeu de train fait : {df_train.shape}\\n\")\n",
    "print(f\"Le jeu de test fait : {df_test.shape}\")"
   ]
  },
  {
   "cell_type": "markdown",
   "id": "22df5aef",
   "metadata": {},
   "source": [
    "- **Création des jeux de train et de test en matrices et vecteurs**"
   ]
  },
  {
   "cell_type": "code",
   "execution_count": 10,
   "id": "1d86119f",
   "metadata": {},
   "outputs": [],
   "source": [
    "# Créer la matrice et le vecteur de train\n",
    "X_train = df_train.drop(columns=[\"price\"])\n",
    "y_train = df_train[\"price\"]\n",
    "\n",
    "# Créer la matrice et le vecteur de test\n",
    "X_test = df_test.drop(columns=[\"price\"])\n",
    "y_test = df_test[\"price\"]"
   ]
  },
  {
   "cell_type": "markdown",
   "id": "0af852a0",
   "metadata": {},
   "source": [
    "- **Création des lites de variables par selon leurs catégories [numérique ou catégorielle]**"
   ]
  },
  {
   "cell_type": "code",
   "execution_count": 11,
   "id": "23934904",
   "metadata": {},
   "outputs": [],
   "source": [
    "# La liste des variables numériques\n",
    "num_cols = X_train.select_dtypes(include=np.number).columns.tolist()\n",
    "# Liste des variables catégorielles\n",
    "cat_cols = X_train.select_dtypes(exclude=np.number).columns.tolist()"
   ]
  },
  {
   "cell_type": "markdown",
   "id": "16a0b457",
   "metadata": {},
   "source": [
    "## 4.1 Pipeline d'entrainement de modèles\n",
    "\n",
    "Afin de bien mener cette régression linéaire, j'ai fait le choix d'utiliser des pipelines pour faire les traitements suivants :\n",
    "\n",
    "- *`Encodage` de variables catégorielles en utilisant `OneHotEncoder`*;\n",
    "- *`Normaliser` les données en avec `RobustScaler`*"
   ]
  },
  {
   "cell_type": "code",
   "execution_count": 12,
   "id": "c573cbd2",
   "metadata": {},
   "outputs": [],
   "source": [
    "# Définir la fonction d'entrainement de modèles\n",
    "def fit_model(estimator, X_train, y_train):\n",
    "    \"\"\"Cette fonction permet d'entrainer un modèle de Machine Learning en fonction\n",
    "       de l'estimateur, les données d'entrainement  et renvoi un modèle entrainé\n",
    "\n",
    "    Args:\n",
    "        estimator (Classifieur): C'est l'estimateur qu'il faut utiliser \n",
    "        X (DataFrame): Les données d'explicatives d'entrainement\n",
    "        y (Vecteur): Le vecteur explicatif d'entrainement\n",
    "\n",
    "    Returns:\n",
    "        Classifieur: Le modèle entrainé\n",
    "    \"\"\"\n",
    "    \n",
    "    # Séparer les données numériques et catégorielles\n",
    "    num_cols = X_train.select_dtypes(include=np.number).columns\n",
    "    cat_cols = X_train.select_dtypes(exclude=np.number).columns\n",
    "    \n",
    "    # Traitement des variables numériques\n",
    "    num_pipeline = make_pipeline(RobustScaler()\n",
    "                                )\n",
    "    #Traiter les variables catégorielles\n",
    "    cat_pipeline = make_pipeline(OneHotEncoder()\n",
    "                                )\n",
    "    \n",
    "    # Combinaison des deux pipelines\n",
    "    preprocessor = make_column_transformer(\n",
    "        (num_pipeline, num_cols), \n",
    "        (cat_pipeline, cat_cols)\n",
    "    )\n",
    "    \n",
    "    # Construction de modèle\n",
    "    model = Pipeline(steps=[\n",
    "        (\"preprocessor\", preprocessor), \n",
    "        (\"estimator\", estimator)]\n",
    "    )\n",
    "    \n",
    "    # Renvoyer le modèle construit et entraîné\n",
    "    return model.fit(X_train, y_train)"
   ]
  },
  {
   "cell_type": "code",
   "execution_count": 13,
   "id": "6f386742",
   "metadata": {},
   "outputs": [],
   "source": [
    "# Définir la fonction d'évaluation de modèles\n",
    "\n",
    "def model_evaluation(model, X_train, y_train, X_test, y_test):\n",
    "    \n",
    "    \"\"\"Cette fonction permet d'évaluer la performance d'un modèle\n",
    "\n",
    "    Args:\n",
    "        model (Classifieur): L'estimateur à utiliser pour évaluer le modèle\n",
    "        X_train (DataFrame): Les données explicative d'entrainement\n",
    "        y_train (Vecteur): Le vecteur target d'entrainement\n",
    "        X_test (DataFrame): Les données explicatives de test\n",
    "        y_test (Vecteur): Le vecteur target de test\n",
    "\n",
    "    Returns:\n",
    "        float: Ce sont les scores f1 de train et de test qui sont renvoyés\n",
    "    \"\"\"\n",
    "    \n",
    "    # Faire des prédictions sur les deux jeux de données\n",
    "    y_train_pred = model.predict(X_train)\n",
    "    y_test_pred = model.predict(X_test)\n",
    "    \n",
    "    # Calculer le socre R2 sur les deux jeux\n",
    "    r2_score_train = r2_score(y_train, y_train_pred)\n",
    "    r2_score_test = r2_score(y_test, y_test_pred)\n",
    "    \n",
    "    # Renvoyer les scores R2 calculés\n",
    "    return r2_score_train, r2_score_test"
   ]
  },
  {
   "cell_type": "code",
   "execution_count": 14,
   "id": "c849153b",
   "metadata": {},
   "outputs": [],
   "source": [
    "# Intancier le modèle\n",
    "reg = LinearRegression(n_jobs=2)"
   ]
  },
  {
   "cell_type": "code",
   "execution_count": 17,
   "id": "cf0a5256",
   "metadata": {},
   "outputs": [],
   "source": [
    "# Entrainer la régression linéaire\n",
    "reg_model = fit_model(reg, X_train, y_train)\n",
    "\n",
    "# Evaluer le modèle de régression linéaire\n",
    "evaluation = model_evaluation(reg_model, X_train, y_train, X_test, y_test)"
   ]
  },
  {
   "cell_type": "markdown",
   "id": "1c715e98",
   "metadata": {},
   "source": [
    "- **Affichage des performance d'entrainement et d'évaluation**"
   ]
  },
  {
   "cell_type": "code",
   "execution_count": 20,
   "id": "03f7a245",
   "metadata": {},
   "outputs": [
    {
     "name": "stdout",
     "output_type": "stream",
     "text": [
      "Score R2 de 0.22 au train et de 0.05 au test\n"
     ]
    }
   ],
   "source": [
    "# Afficher les scores\n",
    "print(f\"Score R2 de {round(evaluation[0], 2)} au train et de {round(evaluation[1], 2)} au test\")"
   ]
  },
  {
   "cell_type": "markdown",
   "id": "9697b575",
   "metadata": {},
   "source": [
    "# 5. Construction des profils de vins"
   ]
  },
  {
   "cell_type": "code",
   "execution_count": null,
   "id": "8daa52ec",
   "metadata": {},
   "outputs": [],
   "source": []
  }
 ],
 "metadata": {
  "kernelspec": {
   "display_name": "Python 3 (ipykernel)",
   "language": "python",
   "name": "python3"
  },
  "language_info": {
   "codemirror_mode": {
    "name": "ipython",
    "version": 3
   },
   "file_extension": ".py",
   "mimetype": "text/x-python",
   "name": "python",
   "nbconvert_exporter": "python",
   "pygments_lexer": "ipython3",
   "version": "3.10.0"
  }
 },
 "nbformat": 4,
 "nbformat_minor": 5
}
