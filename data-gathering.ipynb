{
 "cells": [
  {
   "cell_type": "markdown",
   "id": "f787355a",
   "metadata": {},
   "source": [
    "# Transformation Digitale\n",
    "\n",
    "Le but de ce projet est d'accompagner le marchand de vins de renom dans sa ***transformation digitale*** afin que ces ventes sur Internet soient prises en compte et surtout de valoriser ce marché du numérique qui offre plusieurs opportunités.\n",
    "\n",
    "Mon rôle étant que Data Scientist est de l'aider à bâtir des outils nécessaires pour l'analyse de ces ventes sur Internet qui, jusques là étaient impossibles d'analyser pour manque de rapprochement entre les exports des tables de ventes sur Internet et ceux fait hors ligne."
   ]
  },
  {
   "cell_type": "markdown",
   "id": "f148e599",
   "metadata": {},
   "source": [
    "![caviste](https://www.espacemarconi.fr/wp-content/uploads/2019/04/espace-marconi-459-1080x675.jpg)"
   ]
  },
  {
   "cell_type": "markdown",
   "id": "93a25b60",
   "metadata": {},
   "source": [
    "## 1. Collecte de données"
   ]
  },
  {
   "cell_type": "markdown",
   "id": "2ca867f2",
   "metadata": {},
   "source": [
    "- Importation des librairies nécessaires au travail"
   ]
  },
  {
   "cell_type": "code",
   "execution_count": 1,
   "id": "bd0096b8",
   "metadata": {},
   "outputs": [],
   "source": [
    "import numpy as np\n",
    "import pandas as pd"
   ]
  },
  {
   "cell_type": "code",
   "execution_count": 2,
   "id": "3679748a",
   "metadata": {},
   "outputs": [],
   "source": [
    "# Pour afficher toutes les colonnes\n",
    "pd.set_option(\"display.max_columns\", None)"
   ]
  },
  {
   "cell_type": "markdown",
   "id": "91bd0a43",
   "metadata": {},
   "source": [
    "- Chargment de données"
   ]
  },
  {
   "cell_type": "code",
   "execution_count": 5,
   "id": "7af6f258",
   "metadata": {},
   "outputs": [
    {
     "name": "stderr",
     "output_type": "stream",
     "text": [
      "C:\\Python310\\lib\\site-packages\\openpyxl\\worksheet\\_reader.py:312: UserWarning: Unknown extension is not supported and will be removed\n",
      "  warn(msg)\n",
      "C:\\Python310\\lib\\site-packages\\openpyxl\\worksheet\\_reader.py:312: UserWarning: Unknown extension is not supported and will be removed\n",
      "  warn(msg)\n",
      "C:\\Python310\\lib\\site-packages\\openpyxl\\worksheet\\_reader.py:312: UserWarning: Unknown extension is not supported and will be removed\n",
      "  warn(msg)\n"
     ]
    }
   ],
   "source": [
    "# Charger les données du web\n",
    "web = pd.read_excel(\"web.xlsx\")\n",
    "\n",
    "# Charger les données de liaison\n",
    "liaison = pd.read_excel(\"liaison.xlsx\")\n",
    "\n",
    "# Charger les références des produits\n",
    "references = pd.read_excel(\"erp.xlsx\")"
   ]
  },
  {
   "cell_type": "markdown",
   "id": "1b6317d4",
   "metadata": {},
   "source": [
    "- Quelques informations sur les données à notre disposition"
   ]
  },
  {
   "cell_type": "code",
   "execution_count": 6,
   "id": "949c6845",
   "metadata": {},
   "outputs": [
    {
     "name": "stdout",
     "output_type": "stream",
     "text": [
      "La base des données web fait : 1513 lignes et 28 colonnes\n",
      "\n"
     ]
    },
    {
     "data": {
      "text/html": [
       "<div>\n",
       "<style scoped>\n",
       "    .dataframe tbody tr th:only-of-type {\n",
       "        vertical-align: middle;\n",
       "    }\n",
       "\n",
       "    .dataframe tbody tr th {\n",
       "        vertical-align: top;\n",
       "    }\n",
       "\n",
       "    .dataframe thead th {\n",
       "        text-align: right;\n",
       "    }\n",
       "</style>\n",
       "<table border=\"1\" class=\"dataframe\">\n",
       "  <thead>\n",
       "    <tr style=\"text-align: right;\">\n",
       "      <th></th>\n",
       "      <th>sku</th>\n",
       "      <th>virtual</th>\n",
       "      <th>downloadable</th>\n",
       "      <th>rating_count</th>\n",
       "      <th>average_rating</th>\n",
       "      <th>total_sales</th>\n",
       "      <th>tax_status</th>\n",
       "      <th>tax_class</th>\n",
       "      <th>post_author</th>\n",
       "      <th>post_date</th>\n",
       "      <th>post_date_gmt</th>\n",
       "      <th>post_content</th>\n",
       "      <th>post_title</th>\n",
       "      <th>post_excerpt</th>\n",
       "      <th>post_status</th>\n",
       "      <th>comment_status</th>\n",
       "      <th>ping_status</th>\n",
       "      <th>post_password</th>\n",
       "      <th>post_name</th>\n",
       "      <th>post_modified</th>\n",
       "      <th>post_modified_gmt</th>\n",
       "      <th>post_content_filtered</th>\n",
       "      <th>post_parent</th>\n",
       "      <th>guid</th>\n",
       "      <th>menu_order</th>\n",
       "      <th>post_type</th>\n",
       "      <th>post_mime_type</th>\n",
       "      <th>comment_count</th>\n",
       "    </tr>\n",
       "  </thead>\n",
       "  <tbody>\n",
       "    <tr>\n",
       "      <th>0</th>\n",
       "      <td>bon-cadeau-25-euros</td>\n",
       "      <td>0</td>\n",
       "      <td>0</td>\n",
       "      <td>0</td>\n",
       "      <td>0.0</td>\n",
       "      <td>10.0</td>\n",
       "      <td>taxable</td>\n",
       "      <td>NaN</td>\n",
       "      <td>1.0</td>\n",
       "      <td>2018-06-01 13:53:46</td>\n",
       "      <td>2018-06-01 11:53:46</td>\n",
       "      <td>NaN</td>\n",
       "      <td>Bon cadeau de 25€</td>\n",
       "      <td>&lt;span style=\"color: #a85253;\"&gt;&lt;strong&gt;Parlons ...</td>\n",
       "      <td>publish</td>\n",
       "      <td>closed</td>\n",
       "      <td>closed</td>\n",
       "      <td>NaN</td>\n",
       "      <td>bon-cadeau-de-25-euros</td>\n",
       "      <td>2018-06-01 14:13:57</td>\n",
       "      <td>2018-06-01 12:13:57</td>\n",
       "      <td>NaN</td>\n",
       "      <td>0.0</td>\n",
       "      <td>https://www.wine-spirit.fr/?post_type=product&amp;...</td>\n",
       "      <td>0.0</td>\n",
       "      <td>product</td>\n",
       "      <td>NaN</td>\n",
       "      <td>0.0</td>\n",
       "    </tr>\n",
       "    <tr>\n",
       "      <th>1</th>\n",
       "      <td>15298</td>\n",
       "      <td>0</td>\n",
       "      <td>0</td>\n",
       "      <td>0</td>\n",
       "      <td>0.0</td>\n",
       "      <td>6.0</td>\n",
       "      <td>taxable</td>\n",
       "      <td>NaN</td>\n",
       "      <td>2.0</td>\n",
       "      <td>2018-02-08 12:58:52</td>\n",
       "      <td>2018-02-08 11:58:52</td>\n",
       "      <td>NaN</td>\n",
       "      <td>Pierre Jean Villa Saint-Joseph Préface 2018</td>\n",
       "      <td>Il exhale un nez subtil, racé avec du poivre f...</td>\n",
       "      <td>publish</td>\n",
       "      <td>closed</td>\n",
       "      <td>closed</td>\n",
       "      <td>NaN</td>\n",
       "      <td>pierre-jean-villa-saint-joseph-preface-2018</td>\n",
       "      <td>2019-12-30 09:30:29</td>\n",
       "      <td>2019-12-30 08:30:29</td>\n",
       "      <td>NaN</td>\n",
       "      <td>0.0</td>\n",
       "      <td>https://www.wine-spirit.fr/?post_type=product&amp;...</td>\n",
       "      <td>0.0</td>\n",
       "      <td>product</td>\n",
       "      <td>NaN</td>\n",
       "      <td>0.0</td>\n",
       "    </tr>\n",
       "    <tr>\n",
       "      <th>2</th>\n",
       "      <td>15296</td>\n",
       "      <td>0</td>\n",
       "      <td>0</td>\n",
       "      <td>0</td>\n",
       "      <td>0.0</td>\n",
       "      <td>0.0</td>\n",
       "      <td>taxable</td>\n",
       "      <td>NaN</td>\n",
       "      <td>2.0</td>\n",
       "      <td>2018-02-08 13:49:41</td>\n",
       "      <td>2018-02-08 12:49:41</td>\n",
       "      <td>NaN</td>\n",
       "      <td>Pierre Jean Villa Saint-Joseph Rouge Tildé 2017</td>\n",
       "      <td>Les vieilles vignes lui apportent une rare pro...</td>\n",
       "      <td>publish</td>\n",
       "      <td>closed</td>\n",
       "      <td>closed</td>\n",
       "      <td>NaN</td>\n",
       "      <td>pierre-jean-villa-saint-joseph-tilde-2017</td>\n",
       "      <td>2019-12-21 09:00:17</td>\n",
       "      <td>2019-12-21 08:00:17</td>\n",
       "      <td>NaN</td>\n",
       "      <td>0.0</td>\n",
       "      <td>https://www.wine-spirit.fr/?post_type=product&amp;...</td>\n",
       "      <td>0.0</td>\n",
       "      <td>product</td>\n",
       "      <td>NaN</td>\n",
       "      <td>0.0</td>\n",
       "    </tr>\n",
       "  </tbody>\n",
       "</table>\n",
       "</div>"
      ],
      "text/plain": [
       "                   sku  virtual  downloadable  rating_count  average_rating  \\\n",
       "0  bon-cadeau-25-euros        0             0             0             0.0   \n",
       "1                15298        0             0             0             0.0   \n",
       "2                15296        0             0             0             0.0   \n",
       "\n",
       "   total_sales tax_status  tax_class  post_author           post_date  \\\n",
       "0         10.0    taxable        NaN          1.0 2018-06-01 13:53:46   \n",
       "1          6.0    taxable        NaN          2.0 2018-02-08 12:58:52   \n",
       "2          0.0    taxable        NaN          2.0 2018-02-08 13:49:41   \n",
       "\n",
       "        post_date_gmt  post_content  \\\n",
       "0 2018-06-01 11:53:46           NaN   \n",
       "1 2018-02-08 11:58:52           NaN   \n",
       "2 2018-02-08 12:49:41           NaN   \n",
       "\n",
       "                                        post_title  \\\n",
       "0                                Bon cadeau de 25€   \n",
       "1      Pierre Jean Villa Saint-Joseph Préface 2018   \n",
       "2  Pierre Jean Villa Saint-Joseph Rouge Tildé 2017   \n",
       "\n",
       "                                        post_excerpt post_status  \\\n",
       "0  <span style=\"color: #a85253;\"><strong>Parlons ...     publish   \n",
       "1  Il exhale un nez subtil, racé avec du poivre f...     publish   \n",
       "2  Les vieilles vignes lui apportent une rare pro...     publish   \n",
       "\n",
       "  comment_status ping_status  post_password  \\\n",
       "0         closed      closed            NaN   \n",
       "1         closed      closed            NaN   \n",
       "2         closed      closed            NaN   \n",
       "\n",
       "                                     post_name       post_modified  \\\n",
       "0                       bon-cadeau-de-25-euros 2018-06-01 14:13:57   \n",
       "1  pierre-jean-villa-saint-joseph-preface-2018 2019-12-30 09:30:29   \n",
       "2    pierre-jean-villa-saint-joseph-tilde-2017 2019-12-21 09:00:17   \n",
       "\n",
       "    post_modified_gmt  post_content_filtered  post_parent  \\\n",
       "0 2018-06-01 12:13:57                    NaN          0.0   \n",
       "1 2019-12-30 08:30:29                    NaN          0.0   \n",
       "2 2019-12-21 08:00:17                    NaN          0.0   \n",
       "\n",
       "                                                guid  menu_order post_type  \\\n",
       "0  https://www.wine-spirit.fr/?post_type=product&...         0.0   product   \n",
       "1  https://www.wine-spirit.fr/?post_type=product&...         0.0   product   \n",
       "2  https://www.wine-spirit.fr/?post_type=product&...         0.0   product   \n",
       "\n",
       "  post_mime_type  comment_count  \n",
       "0            NaN            0.0  \n",
       "1            NaN            0.0  \n",
       "2            NaN            0.0  "
      ]
     },
     "execution_count": 6,
     "metadata": {},
     "output_type": "execute_result"
    }
   ],
   "source": [
    "# Afficher le nombre de lignes et de colonnes des données\n",
    "print(f\"La base des données web fait : {web.shape[0]} lignes\",\n",
    "      f\"et {web.shape[1]} colonnes\\n\")\n",
    "# Afficher les 3 premières lignes des données du web\n",
    "web.head(3)"
   ]
  },
  {
   "cell_type": "code",
   "execution_count": 7,
   "id": "87cff2ec",
   "metadata": {},
   "outputs": [
    {
     "name": "stdout",
     "output_type": "stream",
     "text": [
      "La base fait : 825 lignes et 2 colonnes\n",
      "\n"
     ]
    },
    {
     "data": {
      "text/html": [
       "<div>\n",
       "<style scoped>\n",
       "    .dataframe tbody tr th:only-of-type {\n",
       "        vertical-align: middle;\n",
       "    }\n",
       "\n",
       "    .dataframe tbody tr th {\n",
       "        vertical-align: top;\n",
       "    }\n",
       "\n",
       "    .dataframe thead th {\n",
       "        text-align: right;\n",
       "    }\n",
       "</style>\n",
       "<table border=\"1\" class=\"dataframe\">\n",
       "  <thead>\n",
       "    <tr style=\"text-align: right;\">\n",
       "      <th></th>\n",
       "      <th>product_id</th>\n",
       "      <th>id_web</th>\n",
       "    </tr>\n",
       "  </thead>\n",
       "  <tbody>\n",
       "    <tr>\n",
       "      <th>0</th>\n",
       "      <td>3847</td>\n",
       "      <td>15298</td>\n",
       "    </tr>\n",
       "    <tr>\n",
       "      <th>1</th>\n",
       "      <td>3849</td>\n",
       "      <td>15296</td>\n",
       "    </tr>\n",
       "    <tr>\n",
       "      <th>2</th>\n",
       "      <td>3850</td>\n",
       "      <td>15300</td>\n",
       "    </tr>\n",
       "    <tr>\n",
       "      <th>3</th>\n",
       "      <td>4032</td>\n",
       "      <td>19814</td>\n",
       "    </tr>\n",
       "    <tr>\n",
       "      <th>4</th>\n",
       "      <td>4039</td>\n",
       "      <td>19815</td>\n",
       "    </tr>\n",
       "  </tbody>\n",
       "</table>\n",
       "</div>"
      ],
      "text/plain": [
       "   product_id id_web\n",
       "0        3847  15298\n",
       "1        3849  15296\n",
       "2        3850  15300\n",
       "3        4032  19814\n",
       "4        4039  19815"
      ]
     },
     "execution_count": 7,
     "metadata": {},
     "output_type": "execute_result"
    }
   ],
   "source": [
    "# Afficher le nombre de lignes et de colonnes des données\n",
    "print(f\"La base fait : {liaison.shape[0]} lignes et {liaison.shape[1]} colonnes\\n\")\n",
    "# Afficher les 5 premières lignes des données du web\n",
    "liaison.head()"
   ]
  },
  {
   "cell_type": "code",
   "execution_count": 8,
   "id": "59b28e21",
   "metadata": {},
   "outputs": [
    {
     "name": "stdout",
     "output_type": "stream",
     "text": [
      "La base fait : 825 lignes et 5 colonnes\n",
      "\n"
     ]
    },
    {
     "data": {
      "text/html": [
       "<div>\n",
       "<style scoped>\n",
       "    .dataframe tbody tr th:only-of-type {\n",
       "        vertical-align: middle;\n",
       "    }\n",
       "\n",
       "    .dataframe tbody tr th {\n",
       "        vertical-align: top;\n",
       "    }\n",
       "\n",
       "    .dataframe thead th {\n",
       "        text-align: right;\n",
       "    }\n",
       "</style>\n",
       "<table border=\"1\" class=\"dataframe\">\n",
       "  <thead>\n",
       "    <tr style=\"text-align: right;\">\n",
       "      <th></th>\n",
       "      <th>product_id</th>\n",
       "      <th>onsale_web</th>\n",
       "      <th>price</th>\n",
       "      <th>stock_quantity</th>\n",
       "      <th>stock_status</th>\n",
       "    </tr>\n",
       "  </thead>\n",
       "  <tbody>\n",
       "    <tr>\n",
       "      <th>0</th>\n",
       "      <td>3847</td>\n",
       "      <td>1</td>\n",
       "      <td>24.2</td>\n",
       "      <td>0</td>\n",
       "      <td>outofstock</td>\n",
       "    </tr>\n",
       "    <tr>\n",
       "      <th>1</th>\n",
       "      <td>3849</td>\n",
       "      <td>1</td>\n",
       "      <td>34.3</td>\n",
       "      <td>0</td>\n",
       "      <td>outofstock</td>\n",
       "    </tr>\n",
       "    <tr>\n",
       "      <th>2</th>\n",
       "      <td>3850</td>\n",
       "      <td>1</td>\n",
       "      <td>20.8</td>\n",
       "      <td>0</td>\n",
       "      <td>outofstock</td>\n",
       "    </tr>\n",
       "    <tr>\n",
       "      <th>3</th>\n",
       "      <td>4032</td>\n",
       "      <td>1</td>\n",
       "      <td>14.1</td>\n",
       "      <td>0</td>\n",
       "      <td>outofstock</td>\n",
       "    </tr>\n",
       "    <tr>\n",
       "      <th>4</th>\n",
       "      <td>4039</td>\n",
       "      <td>1</td>\n",
       "      <td>46.0</td>\n",
       "      <td>0</td>\n",
       "      <td>outofstock</td>\n",
       "    </tr>\n",
       "  </tbody>\n",
       "</table>\n",
       "</div>"
      ],
      "text/plain": [
       "   product_id  onsale_web  price  stock_quantity stock_status\n",
       "0        3847           1   24.2               0   outofstock\n",
       "1        3849           1   34.3               0   outofstock\n",
       "2        3850           1   20.8               0   outofstock\n",
       "3        4032           1   14.1               0   outofstock\n",
       "4        4039           1   46.0               0   outofstock"
      ]
     },
     "execution_count": 8,
     "metadata": {},
     "output_type": "execute_result"
    }
   ],
   "source": [
    "# Afficher le nombre de lignes et de colonnes des données\n",
    "print(f\"La base fait : {references.shape[0]} lignes et {references.shape[1]} colonnes\\n\")\n",
    "# Afficher les 5 premières lignes des données du web\n",
    "references.head()"
   ]
  },
  {
   "cell_type": "markdown",
   "id": "b2c879e0",
   "metadata": {},
   "source": [
    "## 2. Constitution de l'ensemble des données finales"
   ]
  },
  {
   "cell_type": "code",
   "execution_count": 9,
   "id": "55372282",
   "metadata": {},
   "outputs": [],
   "source": [
    "# Concatener les deux DataFrames partageant la colonne \"product_id\"\n",
    "references = references.merge(liaison, on=\"product_id\", how=\"inner\")"
   ]
  },
  {
   "cell_type": "markdown",
   "id": "f02872f4",
   "metadata": {},
   "source": [
    "- Vérification des modifications apportées"
   ]
  },
  {
   "cell_type": "code",
   "execution_count": 10,
   "id": "cd76dc53",
   "metadata": {},
   "outputs": [
    {
     "name": "stdout",
     "output_type": "stream",
     "text": [
      "La nouvelle base fait : 825 lignes et 6 colonnes\n",
      "\n"
     ]
    },
    {
     "data": {
      "text/html": [
       "<div>\n",
       "<style scoped>\n",
       "    .dataframe tbody tr th:only-of-type {\n",
       "        vertical-align: middle;\n",
       "    }\n",
       "\n",
       "    .dataframe tbody tr th {\n",
       "        vertical-align: top;\n",
       "    }\n",
       "\n",
       "    .dataframe thead th {\n",
       "        text-align: right;\n",
       "    }\n",
       "</style>\n",
       "<table border=\"1\" class=\"dataframe\">\n",
       "  <thead>\n",
       "    <tr style=\"text-align: right;\">\n",
       "      <th></th>\n",
       "      <th>product_id</th>\n",
       "      <th>onsale_web</th>\n",
       "      <th>price</th>\n",
       "      <th>stock_quantity</th>\n",
       "      <th>stock_status</th>\n",
       "      <th>id_web</th>\n",
       "    </tr>\n",
       "  </thead>\n",
       "  <tbody>\n",
       "    <tr>\n",
       "      <th>0</th>\n",
       "      <td>3847</td>\n",
       "      <td>1</td>\n",
       "      <td>24.2</td>\n",
       "      <td>0</td>\n",
       "      <td>outofstock</td>\n",
       "      <td>15298</td>\n",
       "    </tr>\n",
       "    <tr>\n",
       "      <th>1</th>\n",
       "      <td>3849</td>\n",
       "      <td>1</td>\n",
       "      <td>34.3</td>\n",
       "      <td>0</td>\n",
       "      <td>outofstock</td>\n",
       "      <td>15296</td>\n",
       "    </tr>\n",
       "    <tr>\n",
       "      <th>2</th>\n",
       "      <td>3850</td>\n",
       "      <td>1</td>\n",
       "      <td>20.8</td>\n",
       "      <td>0</td>\n",
       "      <td>outofstock</td>\n",
       "      <td>15300</td>\n",
       "    </tr>\n",
       "    <tr>\n",
       "      <th>3</th>\n",
       "      <td>4032</td>\n",
       "      <td>1</td>\n",
       "      <td>14.1</td>\n",
       "      <td>0</td>\n",
       "      <td>outofstock</td>\n",
       "      <td>19814</td>\n",
       "    </tr>\n",
       "    <tr>\n",
       "      <th>4</th>\n",
       "      <td>4039</td>\n",
       "      <td>1</td>\n",
       "      <td>46.0</td>\n",
       "      <td>0</td>\n",
       "      <td>outofstock</td>\n",
       "      <td>19815</td>\n",
       "    </tr>\n",
       "  </tbody>\n",
       "</table>\n",
       "</div>"
      ],
      "text/plain": [
       "   product_id  onsale_web  price  stock_quantity stock_status id_web\n",
       "0        3847           1   24.2               0   outofstock  15298\n",
       "1        3849           1   34.3               0   outofstock  15296\n",
       "2        3850           1   20.8               0   outofstock  15300\n",
       "3        4032           1   14.1               0   outofstock  19814\n",
       "4        4039           1   46.0               0   outofstock  19815"
      ]
     },
     "execution_count": 10,
     "metadata": {},
     "output_type": "execute_result"
    }
   ],
   "source": [
    "# Afficher le nombre de lignes et de colonnes des données\n",
    "print(f\"La nouvelle base fait : {references.shape[0]} lignes et {references.shape[1]} colonnes\\n\")\n",
    "# Afficher les 5 premières lignes des données du web\n",
    "references.head()"
   ]
  },
  {
   "cell_type": "markdown",
   "id": "6b44c77b",
   "metadata": {},
   "source": [
    "- Renommage de la colonne \"sku\" des données web en \"id_web\""
   ]
  },
  {
   "cell_type": "code",
   "execution_count": 11,
   "id": "2d604eb8",
   "metadata": {},
   "outputs": [],
   "source": [
    "# Changer \"sku\" en \"id_web\"\n",
    "web.rename({\"sku\":\"id_web\"}, axis=1, inplace=True)"
   ]
  },
  {
   "cell_type": "code",
   "execution_count": 12,
   "id": "2bce3d5b",
   "metadata": {},
   "outputs": [
    {
     "data": {
      "text/plain": [
       "Index(['id_web', 'virtual', 'downloadable', 'rating_count', 'average_rating',\n",
       "       'total_sales', 'tax_status', 'tax_class', 'post_author', 'post_date',\n",
       "       'post_date_gmt', 'post_content', 'post_title', 'post_excerpt',\n",
       "       'post_status', 'comment_status', 'ping_status', 'post_password',\n",
       "       'post_name', 'post_modified', 'post_modified_gmt',\n",
       "       'post_content_filtered', 'post_parent', 'guid', 'menu_order',\n",
       "       'post_type', 'post_mime_type', 'comment_count'],\n",
       "      dtype='object')"
      ]
     },
     "execution_count": 12,
     "metadata": {},
     "output_type": "execute_result"
    }
   ],
   "source": [
    "# Vérifier les nouvelles colonnes des données web\n",
    "web.columns"
   ]
  },
  {
   "cell_type": "code",
   "execution_count": 13,
   "id": "4f985854",
   "metadata": {},
   "outputs": [
    {
     "name": "stdout",
     "output_type": "stream",
     "text": [
      "La base fait au total : 1513 lignes et 28 colonnes\n"
     ]
    }
   ],
   "source": [
    "# Réafficher la taille des données web avant la constitution des données finales\n",
    "print(f\"La base fait au total : {web.shape[0]} lignes\",\n",
    "      f\"et {web.shape[1]} colonnes\"\n",
    "     )"
   ]
  },
  {
   "cell_type": "code",
   "execution_count": 16,
   "id": "fc655c54",
   "metadata": {},
   "outputs": [],
   "source": [
    "# Conccatener les deux DataFrame pour en faire le DataFrame final\n",
    "vin_df = web.merge(references, on=\"id_web\", how=\"inner\")"
   ]
  },
  {
   "cell_type": "code",
   "execution_count": 18,
   "id": "12861241",
   "metadata": {},
   "outputs": [
    {
     "name": "stdout",
     "output_type": "stream",
     "text": [
      "La base finale fait : 9163 lignes et 33 colonnes\n",
      "\n"
     ]
    },
    {
     "data": {
      "text/html": [
       "<div>\n",
       "<style scoped>\n",
       "    .dataframe tbody tr th:only-of-type {\n",
       "        vertical-align: middle;\n",
       "    }\n",
       "\n",
       "    .dataframe tbody tr th {\n",
       "        vertical-align: top;\n",
       "    }\n",
       "\n",
       "    .dataframe thead th {\n",
       "        text-align: right;\n",
       "    }\n",
       "</style>\n",
       "<table border=\"1\" class=\"dataframe\">\n",
       "  <thead>\n",
       "    <tr style=\"text-align: right;\">\n",
       "      <th></th>\n",
       "      <th>id_web</th>\n",
       "      <th>virtual</th>\n",
       "      <th>downloadable</th>\n",
       "      <th>rating_count</th>\n",
       "      <th>average_rating</th>\n",
       "      <th>total_sales</th>\n",
       "      <th>tax_status</th>\n",
       "      <th>tax_class</th>\n",
       "      <th>post_author</th>\n",
       "      <th>post_date</th>\n",
       "      <th>post_date_gmt</th>\n",
       "      <th>post_content</th>\n",
       "      <th>post_title</th>\n",
       "      <th>post_excerpt</th>\n",
       "      <th>post_status</th>\n",
       "      <th>comment_status</th>\n",
       "      <th>ping_status</th>\n",
       "      <th>post_password</th>\n",
       "      <th>post_name</th>\n",
       "      <th>post_modified</th>\n",
       "      <th>post_modified_gmt</th>\n",
       "      <th>post_content_filtered</th>\n",
       "      <th>post_parent</th>\n",
       "      <th>guid</th>\n",
       "      <th>menu_order</th>\n",
       "      <th>post_type</th>\n",
       "      <th>post_mime_type</th>\n",
       "      <th>comment_count</th>\n",
       "      <th>product_id</th>\n",
       "      <th>onsale_web</th>\n",
       "      <th>price</th>\n",
       "      <th>stock_quantity</th>\n",
       "      <th>stock_status</th>\n",
       "    </tr>\n",
       "  </thead>\n",
       "  <tbody>\n",
       "    <tr>\n",
       "      <th>0</th>\n",
       "      <td>bon-cadeau-25-euros</td>\n",
       "      <td>0</td>\n",
       "      <td>0</td>\n",
       "      <td>0</td>\n",
       "      <td>0.0</td>\n",
       "      <td>10.0</td>\n",
       "      <td>taxable</td>\n",
       "      <td>NaN</td>\n",
       "      <td>1.0</td>\n",
       "      <td>2018-06-01 13:53:46</td>\n",
       "      <td>2018-06-01 11:53:46</td>\n",
       "      <td>NaN</td>\n",
       "      <td>Bon cadeau de 25€</td>\n",
       "      <td>&lt;span style=\"color: #a85253;\"&gt;&lt;strong&gt;Parlons ...</td>\n",
       "      <td>publish</td>\n",
       "      <td>closed</td>\n",
       "      <td>closed</td>\n",
       "      <td>NaN</td>\n",
       "      <td>bon-cadeau-de-25-euros</td>\n",
       "      <td>2018-06-01 14:13:57</td>\n",
       "      <td>2018-06-01 12:13:57</td>\n",
       "      <td>NaN</td>\n",
       "      <td>0.0</td>\n",
       "      <td>https://www.wine-spirit.fr/?post_type=product&amp;...</td>\n",
       "      <td>0.0</td>\n",
       "      <td>product</td>\n",
       "      <td>NaN</td>\n",
       "      <td>0.0</td>\n",
       "      <td>4954</td>\n",
       "      <td>1</td>\n",
       "      <td>25.0</td>\n",
       "      <td>0</td>\n",
       "      <td>instock</td>\n",
       "    </tr>\n",
       "    <tr>\n",
       "      <th>1</th>\n",
       "      <td>bon-cadeau-25-euros</td>\n",
       "      <td>0</td>\n",
       "      <td>0</td>\n",
       "      <td>0</td>\n",
       "      <td>0.0</td>\n",
       "      <td>10.0</td>\n",
       "      <td>NaN</td>\n",
       "      <td>NaN</td>\n",
       "      <td>1.0</td>\n",
       "      <td>2018-06-01 13:53:46</td>\n",
       "      <td>2018-06-01 11:53:46</td>\n",
       "      <td>NaN</td>\n",
       "      <td>Bon cadeau de 25€</td>\n",
       "      <td>NaN</td>\n",
       "      <td>publish</td>\n",
       "      <td>closed</td>\n",
       "      <td>closed</td>\n",
       "      <td>NaN</td>\n",
       "      <td>bon-cadeau-de-25-euros</td>\n",
       "      <td>2018-06-01 14:13:57</td>\n",
       "      <td>2018-06-01 12:13:57</td>\n",
       "      <td>NaN</td>\n",
       "      <td>0.0</td>\n",
       "      <td>https://www.wine-spirit.fr/wp-content/uploads/...</td>\n",
       "      <td>0.0</td>\n",
       "      <td>attachment</td>\n",
       "      <td>image/jpeg</td>\n",
       "      <td>0.0</td>\n",
       "      <td>4954</td>\n",
       "      <td>1</td>\n",
       "      <td>25.0</td>\n",
       "      <td>0</td>\n",
       "      <td>instock</td>\n",
       "    </tr>\n",
       "    <tr>\n",
       "      <th>2</th>\n",
       "      <td>15298</td>\n",
       "      <td>0</td>\n",
       "      <td>0</td>\n",
       "      <td>0</td>\n",
       "      <td>0.0</td>\n",
       "      <td>6.0</td>\n",
       "      <td>taxable</td>\n",
       "      <td>NaN</td>\n",
       "      <td>2.0</td>\n",
       "      <td>2018-02-08 12:58:52</td>\n",
       "      <td>2018-02-08 11:58:52</td>\n",
       "      <td>NaN</td>\n",
       "      <td>Pierre Jean Villa Saint-Joseph Préface 2018</td>\n",
       "      <td>Il exhale un nez subtil, racé avec du poivre f...</td>\n",
       "      <td>publish</td>\n",
       "      <td>closed</td>\n",
       "      <td>closed</td>\n",
       "      <td>NaN</td>\n",
       "      <td>pierre-jean-villa-saint-joseph-preface-2018</td>\n",
       "      <td>2019-12-30 09:30:29</td>\n",
       "      <td>2019-12-30 08:30:29</td>\n",
       "      <td>NaN</td>\n",
       "      <td>0.0</td>\n",
       "      <td>https://www.wine-spirit.fr/?post_type=product&amp;...</td>\n",
       "      <td>0.0</td>\n",
       "      <td>product</td>\n",
       "      <td>NaN</td>\n",
       "      <td>0.0</td>\n",
       "      <td>3847</td>\n",
       "      <td>1</td>\n",
       "      <td>24.2</td>\n",
       "      <td>0</td>\n",
       "      <td>outofstock</td>\n",
       "    </tr>\n",
       "  </tbody>\n",
       "</table>\n",
       "</div>"
      ],
      "text/plain": [
       "                id_web  virtual  downloadable  rating_count  average_rating  \\\n",
       "0  bon-cadeau-25-euros        0             0             0             0.0   \n",
       "1  bon-cadeau-25-euros        0             0             0             0.0   \n",
       "2                15298        0             0             0             0.0   \n",
       "\n",
       "   total_sales tax_status  tax_class  post_author           post_date  \\\n",
       "0         10.0    taxable        NaN          1.0 2018-06-01 13:53:46   \n",
       "1         10.0        NaN        NaN          1.0 2018-06-01 13:53:46   \n",
       "2          6.0    taxable        NaN          2.0 2018-02-08 12:58:52   \n",
       "\n",
       "        post_date_gmt  post_content  \\\n",
       "0 2018-06-01 11:53:46           NaN   \n",
       "1 2018-06-01 11:53:46           NaN   \n",
       "2 2018-02-08 11:58:52           NaN   \n",
       "\n",
       "                                    post_title  \\\n",
       "0                            Bon cadeau de 25€   \n",
       "1                            Bon cadeau de 25€   \n",
       "2  Pierre Jean Villa Saint-Joseph Préface 2018   \n",
       "\n",
       "                                        post_excerpt post_status  \\\n",
       "0  <span style=\"color: #a85253;\"><strong>Parlons ...     publish   \n",
       "1                                                NaN     publish   \n",
       "2  Il exhale un nez subtil, racé avec du poivre f...     publish   \n",
       "\n",
       "  comment_status ping_status  post_password  \\\n",
       "0         closed      closed            NaN   \n",
       "1         closed      closed            NaN   \n",
       "2         closed      closed            NaN   \n",
       "\n",
       "                                     post_name       post_modified  \\\n",
       "0                       bon-cadeau-de-25-euros 2018-06-01 14:13:57   \n",
       "1                       bon-cadeau-de-25-euros 2018-06-01 14:13:57   \n",
       "2  pierre-jean-villa-saint-joseph-preface-2018 2019-12-30 09:30:29   \n",
       "\n",
       "    post_modified_gmt  post_content_filtered  post_parent  \\\n",
       "0 2018-06-01 12:13:57                    NaN          0.0   \n",
       "1 2018-06-01 12:13:57                    NaN          0.0   \n",
       "2 2019-12-30 08:30:29                    NaN          0.0   \n",
       "\n",
       "                                                guid  menu_order   post_type  \\\n",
       "0  https://www.wine-spirit.fr/?post_type=product&...         0.0     product   \n",
       "1  https://www.wine-spirit.fr/wp-content/uploads/...         0.0  attachment   \n",
       "2  https://www.wine-spirit.fr/?post_type=product&...         0.0     product   \n",
       "\n",
       "  post_mime_type  comment_count  product_id  onsale_web  price  \\\n",
       "0            NaN            0.0        4954           1   25.0   \n",
       "1     image/jpeg            0.0        4954           1   25.0   \n",
       "2            NaN            0.0        3847           1   24.2   \n",
       "\n",
       "   stock_quantity stock_status  \n",
       "0               0      instock  \n",
       "1               0      instock  \n",
       "2               0   outofstock  "
      ]
     },
     "execution_count": 18,
     "metadata": {},
     "output_type": "execute_result"
    }
   ],
   "source": [
    "# Vérification des modifications apportées\n",
    "print(f\"La base finale fait : {vin_df.shape[0]} lignes\",\n",
    "      f\"et {vin_df.shape[1]} colonnes\\n\")\n",
    "vin_df.head(3)"
   ]
  },
  {
   "cell_type": "markdown",
   "id": "7ff32f0f",
   "metadata": {},
   "source": [
    "- Vérification des types de post"
   ]
  },
  {
   "cell_type": "code",
   "execution_count": 21,
   "id": "f2affc70",
   "metadata": {},
   "outputs": [
    {
     "data": {
      "text/plain": [
       "array(['product', 'attachment', nan], dtype=object)"
      ]
     },
     "execution_count": 21,
     "metadata": {},
     "output_type": "execute_result"
    }
   ],
   "source": [
    "# Vérifier les types de post\n",
    "vin_df.post_type.unique()"
   ]
  },
  {
   "cell_type": "markdown",
   "id": "198f8897",
   "metadata": {},
   "source": [
    "- Ne prendre uniquement les données sur les produits"
   ]
  },
  {
   "cell_type": "code",
   "execution_count": 22,
   "id": "58a32d64",
   "metadata": {},
   "outputs": [
    {
     "data": {
      "text/plain": [
       "array(['product'], dtype=object)"
      ]
     },
     "execution_count": 22,
     "metadata": {},
     "output_type": "execute_result"
    }
   ],
   "source": [
    "# Sélectionner les posts de type \"product\" qui sont des produits\n",
    "vin_df = vin_df.query('post_type == \"product\"')\n",
    "\n",
    "# Vérifier à nouveau les types de post\n",
    "vin_df.post_type.unique()"
   ]
  },
  {
   "cell_type": "markdown",
   "id": "caea9a28",
   "metadata": {},
   "source": [
    "## 3. Sauvergarde des données"
   ]
  },
  {
   "cell_type": "code",
   "execution_count": 23,
   "id": "7e8761c6",
   "metadata": {},
   "outputs": [],
   "source": [
    "# Sauvegarder l'ensemble de données contenant que les produits (vins)\n",
    "vin_df.to_csv(\"vin_data.csv\", index=False)"
   ]
  }
 ],
 "metadata": {
  "kernelspec": {
   "display_name": "Python 3 (ipykernel)",
   "language": "python",
   "name": "python3"
  },
  "language_info": {
   "codemirror_mode": {
    "name": "ipython",
    "version": 3
   },
   "file_extension": ".py",
   "mimetype": "text/x-python",
   "name": "python",
   "nbconvert_exporter": "python",
   "pygments_lexer": "ipython3",
   "version": "3.10.0"
  }
 },
 "nbformat": 4,
 "nbformat_minor": 5
}
